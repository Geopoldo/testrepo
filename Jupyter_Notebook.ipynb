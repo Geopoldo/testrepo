{
 "cells": [
  {
   "cell_type": "markdown",
   "metadata": {},
   "source": [
    "# My Jupyter Notebook on IBM Watson Studio"
   ]
  },
  {
   "cell_type": "markdown",
   "metadata": {},
   "source": [
    "##### Carlos Jorge Leopoldo Gomez Chaparro\n",
    "###### Crime data Scientists"
   ]
  },
  {
   "cell_type": "markdown",
   "metadata": {},
   "source": [
    "*I am interested in data science because I have the particular interest in learning about natural language processing and its potential applications in developing crime predictive models based on spatial data.*"
   ]
  },
  {
   "cell_type": "markdown",
   "metadata": {},
   "source": [
    "### The next cell will do a mathematical operation by adding the values assigned to the variables X and Y"
   ]
  },
  {
   "cell_type": "code",
   "execution_count": 11,
   "metadata": {},
   "outputs": [
    {
     "data": {
      "text/plain": [
       "3"
      ]
     },
     "execution_count": 11,
     "metadata": {},
     "output_type": "execute_result"
    }
   ],
   "source": [
    "X=1\n",
    "Y=2\n",
    "X+Y"
   ]
  },
  {
   "cell_type": "markdown",
   "metadata": {},
   "source": [
    "# Horizontal rule\n",
    "\n",
    "---\n",
    "\n",
    "# Bulet list\n",
    "\n",
    "- Bulleted list item 1\n",
    "- Bulleted list item 2\n",
    "- Bulleted list item 3\n",
    "\n",
    "# Numbered list\n",
    "1. Numbered list item 1\n",
    "2. Numbered list item 2\n",
    "3. Numbered list item 3\n",
    "\n",
    "# Columns and rows\n",
    "\n",
    "| Column 1 | Column 2 |\n",
    "|----------|----------|\n",
    "| Row 1, Column 1 | Row 1, Column 2 |\n",
    "| Row 2, Column 1 | Row 2, Column 2 |\n",
    "\n",
    "# Hiper link    \n",
    "[Link to Google](https://www.google.com)\n",
    "\n",
    "# Image\n",
    "![IBM Logo](https://www.ibm.com/brand/experience-guides/developer/b1db1ae501d522a1a4b49613fe07c9f1/01_8-bar-positive.svg)\n",
    "\n",
    "# blocked quote\n",
    "> This is a blocked quote.\n",
    "\n",
    "# Strikethrough\n",
    "\n",
    "This is an example of ~~strikethrough~~ text.\n",
    "\n",
    "\n",
    "# Code block with syntax highlighting\n",
    "x = 10\n",
    "y = 20\n",
    "print(x + y)"
   ]
  },
  {
   "cell_type": "markdown",
   "metadata": {},
   "source": []
  },
  {
   "cell_type": "code",
   "execution_count": null,
   "metadata": {},
   "outputs": [],
   "source": []
  }
 ],
 "metadata": {
  "kernelspec": {
   "display_name": "Python",
   "language": "python",
   "name": "conda-env-python-py"
  },
  "language_info": {
   "codemirror_mode": {
    "name": "ipython",
    "version": 3
   },
   "file_extension": ".py",
   "mimetype": "text/x-python",
   "name": "python",
   "nbconvert_exporter": "python",
   "pygments_lexer": "ipython3",
   "version": "3.7.12"
  }
 },
 "nbformat": 4,
 "nbformat_minor": 4
}
